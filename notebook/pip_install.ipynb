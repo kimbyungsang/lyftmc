{
 "cells": [
  {
   "cell_type": "code",
   "execution_count": 3,
   "metadata": {},
   "outputs": [
    {
     "name": "stdout",
     "output_type": "stream",
     "text": [
      "Package                       Version\n",
      "----------------------------- -------------------\n",
      "alembic                       1.4.2\n",
      "argon2-cffi                   20.1.0\n",
      "async-generator               1.10\n",
      "attrs                         20.1.0\n",
      "backcall                      0.2.0\n",
      "backports.functools-lru-cache 1.6.1\n",
      "beautifulsoup4                4.9.1\n",
      "bleach                        3.1.5\n",
      "blinker                       1.4\n",
      "bokeh                         2.1.1\n",
      "Bottleneck                    1.3.2\n",
      "brotlipy                      0.7.0\n",
      "certifi                       2020.6.20\n",
      "certipy                       0.1.3\n",
      "cffi                          1.14.1\n",
      "chardet                       3.0.4\n",
      "click                         7.1.2\n",
      "cloudpickle                   1.5.0\n",
      "conda                         4.8.3\n",
      "conda-package-handling        1.6.1\n",
      "cryptography                  3.0\n",
      "cycler                        0.10.0\n",
      "Cython                        0.29.21\n",
      "cytoolz                       0.10.1\n",
      "dask                          2.20.0\n",
      "decorator                     4.4.2\n",
      "defusedxml                    0.6.0\n",
      "dill                          0.3.2\n",
      "distributed                   2.24.0\n",
      "entrypoints                   0.3\n",
      "fastcache                     1.1.0\n",
      "fsspec                        0.8.0\n",
      "gmpy2                         2.1.0b1\n",
      "h5py                          2.10.0\n",
      "HeapDict                      1.0.1\n",
      "idna                          2.10\n",
      "imagecodecs                   2020.5.30\n",
      "imageio                       2.9.0\n",
      "importlib-metadata            1.7.0\n",
      "ipykernel                     5.3.4\n",
      "ipympl                        0.5.7\n",
      "ipython                       7.17.0\n",
      "ipython-genutils              0.2.0\n",
      "ipywidgets                    7.5.1\n",
      "jedi                          0.17.2\n",
      "Jinja2                        2.11.2\n",
      "joblib                        0.16.0\n",
      "json5                         0.9.4\n",
      "jsonschema                    3.2.0\n",
      "jupyter-client                6.1.6\n",
      "jupyter-core                  4.6.3\n",
      "jupyter-telemetry             0.0.5\n",
      "jupyterhub                    1.1.0\n",
      "jupyterlab                    2.2.5\n",
      "jupyterlab-server             1.2.0\n",
      "kiwisolver                    1.2.0\n",
      "llvmlite                      0.31.0\n",
      "locket                        0.2.0\n",
      "Mako                          1.1.3\n",
      "MarkupSafe                    1.1.1\n",
      "matplotlib                    3.2.2\n",
      "mistune                       0.8.4\n",
      "mock                          4.0.2\n",
      "mpmath                        1.1.0\n",
      "msgpack                       1.0.0\n",
      "nbconvert                     5.6.1\n",
      "nbformat                      5.0.7\n",
      "networkx                      2.5\n",
      "notebook                      6.1.3\n",
      "numba                         0.48.0\n",
      "numexpr                       2.7.1\n",
      "numpy                         1.19.1\n",
      "oauthlib                      3.0.1\n",
      "olefile                       0.46\n",
      "packaging                     20.4\n",
      "pamela                        1.0.0\n",
      "pandas                        1.1.1\n",
      "pandocfilters                 1.4.2\n",
      "parso                         0.7.1\n",
      "partd                         1.1.0\n",
      "patsy                         0.5.1\n",
      "pexpect                       4.8.0\n",
      "pickleshare                   0.7.5\n",
      "Pillow                        7.2.0\n",
      "pip                           20.2.2\n",
      "prometheus-client             0.8.0\n",
      "prompt-toolkit                3.0.6\n",
      "protobuf                      3.12.4\n",
      "psutil                        5.7.2\n",
      "ptyprocess                    0.6.0\n",
      "pycosat                       0.6.3\n",
      "pycparser                     2.20\n",
      "pycurl                        7.43.0.5\n",
      "Pygments                      2.6.1\n",
      "PyJWT                         1.7.1\n",
      "pyOpenSSL                     19.1.0\n",
      "pyparsing                     2.4.7\n",
      "pyrsistent                    0.16.0\n",
      "PySocks                       1.7.1\n",
      "python-dateutil               2.8.1\n",
      "python-editor                 1.0.4\n",
      "python-json-logger            0.1.11\n",
      "pytz                          2020.1\n",
      "PyWavelets                    1.1.1\n",
      "PyYAML                        5.3.1\n",
      "pyzmq                         19.0.2\n",
      "requests                      2.24.0\n",
      "rpy2                          3.1.0\n",
      "ruamel-yaml                   0.15.80\n",
      "ruamel.yaml                   0.16.10\n",
      "ruamel.yaml.clib              0.2.0\n",
      "scikit-image                  0.17.2\n",
      "scikit-learn                  0.23.2\n",
      "scipy                         1.5.2\n",
      "seaborn                       0.10.1\n",
      "Send2Trash                    1.5.0\n",
      "setuptools                    49.6.0.post20200814\n",
      "simplegeneric                 0.8.1\n",
      "six                           1.15.0\n",
      "sortedcontainers              2.2.2\n",
      "soupsieve                     2.0.1\n",
      "SQLAlchemy                    1.3.19\n",
      "statsmodels                   0.11.1\n",
      "sympy                         1.6.2\n",
      "tables                        3.6.1\n",
      "tblib                         1.6.0\n",
      "terminado                     0.8.3\n",
      "testpath                      0.4.4\n",
      "threadpoolctl                 2.1.0\n",
      "tifffile                      2020.8.13\n",
      "toolz                         0.10.0\n",
      "tornado                       6.0.4\n",
      "tqdm                          4.48.2\n",
      "traitlets                     4.3.3\n",
      "typing-extensions             3.7.4.2\n",
      "tzlocal                       2.1\n",
      "urllib3                       1.25.10\n",
      "vincent                       0.4.4\n",
      "wcwidth                       0.2.5\n",
      "webencodings                  0.5.1\n",
      "wheel                         0.35.1\n",
      "widgetsnbextension            3.5.1\n",
      "xlrd                          1.2.0\n",
      "zict                          2.0.0\n",
      "zipp                          3.1.0\n"
     ]
    }
   ],
   "source": [
    "!pip list"
   ]
  },
  {
   "cell_type": "code",
   "execution_count": 4,
   "metadata": {},
   "outputs": [
    {
     "name": "stdout",
     "output_type": "stream",
     "text": [
      "ERROR: unknown command \"version\"\r\n"
     ]
    }
   ],
   "source": [
    "!pip version"
   ]
  },
  {
   "cell_type": "code",
   "execution_count": 5,
   "metadata": {},
   "outputs": [
    {
     "name": "stdout",
     "output_type": "stream",
     "text": [
      "pip 20.2.2 from /opt/conda/lib/python3.8/site-packages/pip (python 3.8)\r\n"
     ]
    }
   ],
   "source": [
    "!pip -V"
   ]
  },
  {
   "cell_type": "code",
   "execution_count": 6,
   "metadata": {},
   "outputs": [
    {
     "name": "stdout",
     "output_type": "stream",
     "text": [
      "Requirement already up-to-date: pip in /opt/conda/lib/python3.8/site-packages (20.2.2)\r\n"
     ]
    }
   ],
   "source": [
    "!pip install --upgrade pip"
   ]
  },
  {
   "cell_type": "code",
   "execution_count": 7,
   "metadata": {},
   "outputs": [
    {
     "name": "stdout",
     "output_type": "stream",
     "text": [
      "Collecting pymap3d==2.1.0\n",
      "  Downloading pymap3d-2.1.0.tar.gz (30 kB)\n",
      "Building wheels for collected packages: pymap3d\n",
      "  Building wheel for pymap3d (setup.py) ... \u001b[?25ldone\n",
      "\u001b[?25h  Created wheel for pymap3d: filename=pymap3d-2.1.0-py3-none-any.whl size=37450 sha256=35518dff92c44530b9290405ac39665623111e611a1f6124face3c5ddc9805ae\n",
      "  Stored in directory: /home/jovyan/.cache/pip/wheels/a8/c5/4e/432443162759fb537d90f0cda92407f3d7f860d3970663c4f4\n",
      "Successfully built pymap3d\n",
      "Installing collected packages: pymap3d\n",
      "Successfully installed pymap3d-2.1.0\n"
     ]
    }
   ],
   "source": [
    "!pip install pymap3d==2.1.0"
   ]
  },
  {
   "cell_type": "code",
   "execution_count": 8,
   "metadata": {},
   "outputs": [
    {
     "name": "stdout",
     "output_type": "stream",
     "text": [
      "Collecting l5kit\n",
      "  Downloading l5kit-1.0.6-py3-none-any.whl (81 kB)\n",
      "\u001b[K     |████████████████████████████████| 81 kB 1.0 MB/s eta 0:00:011\n",
      "\u001b[?25hCollecting zarr\n",
      "  Downloading zarr-2.4.0.tar.gz (3.3 MB)\n",
      "\u001b[K     |████████████████████████████████| 3.3 MB 1.8 MB/s eta 0:00:01\n",
      "\u001b[?25hRequirement already satisfied, skipping upgrade: tqdm in /opt/conda/lib/python3.8/site-packages (from l5kit) (4.48.2)\n",
      "Collecting torchvision<0.7.0,>=0.6.0\n",
      "  Downloading torchvision-0.6.1-cp38-cp38-manylinux1_x86_64.whl (6.6 MB)\n",
      "\u001b[K     |████████████████████████████████| 6.6 MB 8.1 MB/s eta 0:00:01\n",
      "\u001b[?25hRequirement already satisfied, skipping upgrade: ipywidgets in /opt/conda/lib/python3.8/site-packages (from l5kit) (7.5.1)\n",
      "Collecting opencv-contrib-python-headless\n",
      "  Downloading opencv_contrib_python_headless-4.4.0.42-cp38-cp38-manylinux2014_x86_64.whl (42.8 MB)\n",
      "\u001b[K     |████████████████████████████████| 42.8 MB 356 kB/s  eta 0:00:01\n",
      "\u001b[?25hCollecting protobuf==3.12.2\n",
      "  Downloading protobuf-3.12.2-cp38-cp38-manylinux1_x86_64.whl (1.3 MB)\n",
      "\u001b[K     |████████████████████████████████| 1.3 MB 20.9 MB/s eta 0:00:01\n",
      "\u001b[?25hRequirement already satisfied, skipping upgrade: imageio in /opt/conda/lib/python3.8/site-packages (from l5kit) (2.9.0)\n",
      "Requirement already satisfied, skipping upgrade: setuptools in /opt/conda/lib/python3.8/site-packages (from l5kit) (49.6.0.post20200814)\n",
      "Collecting torch<1.6.0,>=1.5.0\n",
      "  Downloading torch-1.5.1-cp38-cp38-manylinux1_x86_64.whl (753.2 MB)\n",
      "\u001b[K     |████████████████████████████████| 753.2 MB 6.6 kB/s  eta 0:00:01     |███████████████████████▊        | 559.5 MB 40.7 MB/s eta 0:00:05     |████████████████████████        | 564.5 MB 40.7 MB/s eta 0:00:05     |█████████████████████████████   | 680.0 MB 54.8 MB/s eta 0:00:02\n",
      "\u001b[?25hRequirement already satisfied, skipping upgrade: scipy in /opt/conda/lib/python3.8/site-packages (from l5kit) (1.5.2)\n",
      "Requirement already satisfied, skipping upgrade: notebook in /opt/conda/lib/python3.8/site-packages (from l5kit) (6.1.3)\n",
      "Requirement already satisfied, skipping upgrade: numpy in /opt/conda/lib/python3.8/site-packages (from l5kit) (1.19.1)\n",
      "Collecting ptable\n",
      "  Downloading PTable-0.9.2.tar.gz (31 kB)\n",
      "Collecting transforms3d\n",
      "  Downloading transforms3d-0.3.1.tar.gz (62 kB)\n",
      "\u001b[K     |████████████████████████████████| 62 kB 2.4 MB/s  eta 0:00:01\n",
      "\u001b[?25hRequirement already satisfied, skipping upgrade: pyyaml in /opt/conda/lib/python3.8/site-packages (from l5kit) (5.3.1)\n",
      "Requirement already satisfied, skipping upgrade: pymap3d in /opt/conda/lib/python3.8/site-packages (from l5kit) (2.1.0)\n",
      "Requirement already satisfied, skipping upgrade: matplotlib in /opt/conda/lib/python3.8/site-packages (from l5kit) (3.2.2)\n",
      "Collecting asciitree\n",
      "  Downloading asciitree-0.3.3.tar.gz (4.0 kB)\n",
      "Collecting fasteners\n",
      "  Downloading fasteners-0.15-py2.py3-none-any.whl (23 kB)\n",
      "Collecting numcodecs>=0.6.4\n",
      "  Downloading numcodecs-0.6.4.tar.gz (3.8 MB)\n",
      "\u001b[K     |████████████████████████████████| 3.8 MB 61.5 MB/s eta 0:00:01\n",
      "\u001b[?25hRequirement already satisfied, skipping upgrade: pillow>=4.1.1 in /opt/conda/lib/python3.8/site-packages (from torchvision<0.7.0,>=0.6.0->l5kit) (7.2.0)\n",
      "Requirement already satisfied, skipping upgrade: ipykernel>=4.5.1 in /opt/conda/lib/python3.8/site-packages (from ipywidgets->l5kit) (5.3.4)\n",
      "Requirement already satisfied, skipping upgrade: traitlets>=4.3.1 in /opt/conda/lib/python3.8/site-packages (from ipywidgets->l5kit) (4.3.3)\n",
      "Requirement already satisfied, skipping upgrade: ipython>=4.0.0; python_version >= \"3.3\" in /opt/conda/lib/python3.8/site-packages (from ipywidgets->l5kit) (7.17.0)\n",
      "Requirement already satisfied, skipping upgrade: widgetsnbextension~=3.5.0 in /opt/conda/lib/python3.8/site-packages (from ipywidgets->l5kit) (3.5.1)\n",
      "Requirement already satisfied, skipping upgrade: nbformat>=4.2.0 in /opt/conda/lib/python3.8/site-packages (from ipywidgets->l5kit) (5.0.7)\n",
      "Requirement already satisfied, skipping upgrade: six>=1.9 in /opt/conda/lib/python3.8/site-packages (from protobuf==3.12.2->l5kit) (1.15.0)\n",
      "Collecting future\n",
      "  Downloading future-0.18.2.tar.gz (829 kB)\n",
      "\u001b[K     |████████████████████████████████| 829 kB 63.4 MB/s eta 0:00:01\n",
      "\u001b[?25hRequirement already satisfied, skipping upgrade: tornado>=5.0 in /opt/conda/lib/python3.8/site-packages (from notebook->l5kit) (6.0.4)\n",
      "Requirement already satisfied, skipping upgrade: pyzmq>=17 in /opt/conda/lib/python3.8/site-packages (from notebook->l5kit) (19.0.2)\n",
      "Requirement already satisfied, skipping upgrade: prometheus-client in /opt/conda/lib/python3.8/site-packages (from notebook->l5kit) (0.8.0)\n",
      "Requirement already satisfied, skipping upgrade: ipython-genutils in /opt/conda/lib/python3.8/site-packages (from notebook->l5kit) (0.2.0)\n",
      "Requirement already satisfied, skipping upgrade: argon2-cffi in /opt/conda/lib/python3.8/site-packages (from notebook->l5kit) (20.1.0)\n",
      "Requirement already satisfied, skipping upgrade: jupyter-client>=5.3.4 in /opt/conda/lib/python3.8/site-packages (from notebook->l5kit) (6.1.6)\n",
      "Requirement already satisfied, skipping upgrade: terminado>=0.8.3 in /opt/conda/lib/python3.8/site-packages (from notebook->l5kit) (0.8.3)\n",
      "Requirement already satisfied, skipping upgrade: jupyter-core>=4.6.1 in /opt/conda/lib/python3.8/site-packages (from notebook->l5kit) (4.6.3)\n",
      "Requirement already satisfied, skipping upgrade: Send2Trash in /opt/conda/lib/python3.8/site-packages (from notebook->l5kit) (1.5.0)\n",
      "Requirement already satisfied, skipping upgrade: jinja2 in /opt/conda/lib/python3.8/site-packages (from notebook->l5kit) (2.11.2)\n",
      "Requirement already satisfied, skipping upgrade: nbconvert in /opt/conda/lib/python3.8/site-packages (from notebook->l5kit) (5.6.1)\n",
      "Requirement already satisfied, skipping upgrade: python-dateutil>=2.1 in /opt/conda/lib/python3.8/site-packages (from matplotlib->l5kit) (2.8.1)\n",
      "Requirement already satisfied, skipping upgrade: cycler>=0.10 in /opt/conda/lib/python3.8/site-packages (from matplotlib->l5kit) (0.10.0)\n",
      "Requirement already satisfied, skipping upgrade: kiwisolver>=1.0.1 in /opt/conda/lib/python3.8/site-packages (from matplotlib->l5kit) (1.2.0)\n",
      "Requirement already satisfied, skipping upgrade: pyparsing!=2.0.4,!=2.1.2,!=2.1.6,>=2.0.1 in /opt/conda/lib/python3.8/site-packages (from matplotlib->l5kit) (2.4.7)\n",
      "Collecting monotonic>=0.1\n",
      "  Downloading monotonic-1.5-py2.py3-none-any.whl (5.3 kB)\n",
      "Requirement already satisfied, skipping upgrade: decorator in /opt/conda/lib/python3.8/site-packages (from traitlets>=4.3.1->ipywidgets->l5kit) (4.4.2)\n",
      "Requirement already satisfied, skipping upgrade: pygments in /opt/conda/lib/python3.8/site-packages (from ipython>=4.0.0; python_version >= \"3.3\"->ipywidgets->l5kit) (2.6.1)\n",
      "Requirement already satisfied, skipping upgrade: jedi>=0.10 in /opt/conda/lib/python3.8/site-packages (from ipython>=4.0.0; python_version >= \"3.3\"->ipywidgets->l5kit) (0.17.2)\n",
      "Requirement already satisfied, skipping upgrade: prompt-toolkit!=3.0.0,!=3.0.1,<3.1.0,>=2.0.0 in /opt/conda/lib/python3.8/site-packages (from ipython>=4.0.0; python_version >= \"3.3\"->ipywidgets->l5kit) (3.0.6)\n",
      "Requirement already satisfied, skipping upgrade: pickleshare in /opt/conda/lib/python3.8/site-packages (from ipython>=4.0.0; python_version >= \"3.3\"->ipywidgets->l5kit) (0.7.5)\n",
      "Requirement already satisfied, skipping upgrade: pexpect; sys_platform != \"win32\" in /opt/conda/lib/python3.8/site-packages (from ipython>=4.0.0; python_version >= \"3.3\"->ipywidgets->l5kit) (4.8.0)\n",
      "Requirement already satisfied, skipping upgrade: backcall in /opt/conda/lib/python3.8/site-packages (from ipython>=4.0.0; python_version >= \"3.3\"->ipywidgets->l5kit) (0.2.0)\n",
      "Requirement already satisfied, skipping upgrade: jsonschema!=2.5.0,>=2.4 in /opt/conda/lib/python3.8/site-packages (from nbformat>=4.2.0->ipywidgets->l5kit) (3.2.0)\n",
      "Requirement already satisfied, skipping upgrade: cffi>=1.0.0 in /opt/conda/lib/python3.8/site-packages (from argon2-cffi->notebook->l5kit) (1.14.1)\n",
      "Requirement already satisfied, skipping upgrade: MarkupSafe>=0.23 in /opt/conda/lib/python3.8/site-packages (from jinja2->notebook->l5kit) (1.1.1)\n",
      "Requirement already satisfied, skipping upgrade: bleach in /opt/conda/lib/python3.8/site-packages (from nbconvert->notebook->l5kit) (3.1.5)\n",
      "Requirement already satisfied, skipping upgrade: testpath in /opt/conda/lib/python3.8/site-packages (from nbconvert->notebook->l5kit) (0.4.4)\n"
     ]
    },
    {
     "name": "stdout",
     "output_type": "stream",
     "text": [
      "Requirement already satisfied, skipping upgrade: mistune<2,>=0.8.1 in /opt/conda/lib/python3.8/site-packages (from nbconvert->notebook->l5kit) (0.8.4)\n",
      "Requirement already satisfied, skipping upgrade: entrypoints>=0.2.2 in /opt/conda/lib/python3.8/site-packages (from nbconvert->notebook->l5kit) (0.3)\n",
      "Requirement already satisfied, skipping upgrade: defusedxml in /opt/conda/lib/python3.8/site-packages (from nbconvert->notebook->l5kit) (0.6.0)\n",
      "Requirement already satisfied, skipping upgrade: pandocfilters>=1.4.1 in /opt/conda/lib/python3.8/site-packages (from nbconvert->notebook->l5kit) (1.4.2)\n",
      "Requirement already satisfied, skipping upgrade: parso<0.8.0,>=0.7.0 in /opt/conda/lib/python3.8/site-packages (from jedi>=0.10->ipython>=4.0.0; python_version >= \"3.3\"->ipywidgets->l5kit) (0.7.1)\n",
      "Requirement already satisfied, skipping upgrade: wcwidth in /opt/conda/lib/python3.8/site-packages (from prompt-toolkit!=3.0.0,!=3.0.1,<3.1.0,>=2.0.0->ipython>=4.0.0; python_version >= \"3.3\"->ipywidgets->l5kit) (0.2.5)\n",
      "Requirement already satisfied, skipping upgrade: ptyprocess>=0.5 in /opt/conda/lib/python3.8/site-packages (from pexpect; sys_platform != \"win32\"->ipython>=4.0.0; python_version >= \"3.3\"->ipywidgets->l5kit) (0.6.0)\n",
      "Requirement already satisfied, skipping upgrade: attrs>=17.4.0 in /opt/conda/lib/python3.8/site-packages (from jsonschema!=2.5.0,>=2.4->nbformat>=4.2.0->ipywidgets->l5kit) (20.1.0)\n",
      "Requirement already satisfied, skipping upgrade: pyrsistent>=0.14.0 in /opt/conda/lib/python3.8/site-packages (from jsonschema!=2.5.0,>=2.4->nbformat>=4.2.0->ipywidgets->l5kit) (0.16.0)\n",
      "Requirement already satisfied, skipping upgrade: pycparser in /opt/conda/lib/python3.8/site-packages (from cffi>=1.0.0->argon2-cffi->notebook->l5kit) (2.20)\n",
      "Requirement already satisfied, skipping upgrade: packaging in /opt/conda/lib/python3.8/site-packages (from bleach->nbconvert->notebook->l5kit) (20.4)\n",
      "Requirement already satisfied, skipping upgrade: webencodings in /opt/conda/lib/python3.8/site-packages (from bleach->nbconvert->notebook->l5kit) (0.5.1)\n",
      "Building wheels for collected packages: zarr, ptable, transforms3d, asciitree, numcodecs, future\n",
      "  Building wheel for zarr (setup.py) ... \u001b[?25ldone\n",
      "\u001b[?25h  Created wheel for zarr: filename=zarr-2.4.0-py3-none-any.whl size=127065 sha256=97db0b8f0933e50987319d8aa53f334bcb5a3678696ea21e575867a54ec68ea8\n",
      "  Stored in directory: /home/jovyan/.cache/pip/wheels/73/45/aa/2472a351a13ce1a2a4fe06149435fd6ffe37c31562037035f8\n",
      "  Building wheel for ptable (setup.py) ... \u001b[?25ldone\n",
      "\u001b[?25h  Created wheel for ptable: filename=PTable-0.9.2-py3-none-any.whl size=22907 sha256=01c2649a755efb9644e505c138ac8d432f499733b18c24384f13616dd4c93bc8\n",
      "  Stored in directory: /home/jovyan/.cache/pip/wheels/1b/3a/02/8d8da2bca2223dda2f827949c88b2d82dc85dccbc2bb6265e5\n",
      "  Building wheel for transforms3d (setup.py) ... \u001b[?25ldone\n",
      "\u001b[?25h  Created wheel for transforms3d: filename=transforms3d-0.3.1-py3-none-any.whl size=59373 sha256=490f6417223281cbc935e2ea9557cf922c4093e2bf036e587af3b988520d3e0a\n",
      "  Stored in directory: /home/jovyan/.cache/pip/wheels/40/c6/48/9955c69fa14bc0fc0152229df46a3c21bcdc3554e2dd627f57\n",
      "  Building wheel for asciitree (setup.py) ... \u001b[?25ldone\n",
      "\u001b[?25h  Created wheel for asciitree: filename=asciitree-0.3.3-py3-none-any.whl size=5035 sha256=4e76889a3b1b7115ac8c560bb37f49e464021010cfb8a2f303e8f20885cc1f07\n",
      "  Stored in directory: /home/jovyan/.cache/pip/wheels/a3/d7/75/19cd0d2a893cad4bb0b2b16dd572ad2916d19c0d5ee9612511\n",
      "  Building wheel for numcodecs (setup.py) ... \u001b[?25ldone\n",
      "\u001b[?25h  Created wheel for numcodecs: filename=numcodecs-0.6.4-cp38-cp38-linux_x86_64.whl size=6285856 sha256=0181a80b18163b9b60e6e4b1f5ef3ea686fe9f2c1fd38f6084adf5ba8acf384d\n",
      "  Stored in directory: /home/jovyan/.cache/pip/wheels/06/84/42/9947cf5ce52463b17e99e7c89be03025256fe4e1c534d184cb\n",
      "  Building wheel for future (setup.py) ... \u001b[?25ldone\n",
      "\u001b[?25h  Created wheel for future: filename=future-0.18.2-py3-none-any.whl size=491059 sha256=37a7a9b2e96d173a97588ab04a9cb893f48515b0e4c0aa99bf6c44f701b390b6\n",
      "  Stored in directory: /home/jovyan/.cache/pip/wheels/8e/70/28/3d6ccd6e315f65f245da085482a2e1c7d14b90b30f239e2cf4\n",
      "Successfully built zarr ptable transforms3d asciitree numcodecs future\n",
      "Installing collected packages: asciitree, monotonic, fasteners, numcodecs, zarr, future, torch, torchvision, opencv-contrib-python-headless, protobuf, ptable, transforms3d, l5kit\n",
      "  Attempting uninstall: protobuf\n",
      "    Found existing installation: protobuf 3.12.4\n",
      "    Uninstalling protobuf-3.12.4:\n",
      "      Successfully uninstalled protobuf-3.12.4\n",
      "Successfully installed asciitree-0.3.3 fasteners-0.15 future-0.18.2 l5kit-1.0.6 monotonic-1.5 numcodecs-0.6.4 opencv-contrib-python-headless-4.4.0.42 protobuf-3.12.2 ptable-0.9.2 torch-1.5.1 torchvision-0.6.1 transforms3d-0.3.1 zarr-2.4.0\n"
     ]
    }
   ],
   "source": [
    "!pip install -U l5kit"
   ]
  },
  {
   "cell_type": "code",
   "execution_count": 11,
   "metadata": {},
   "outputs": [
    {
     "name": "stdout",
     "output_type": "stream",
     "text": [
      "Collecting kaggle\n",
      "  Downloading kaggle-1.5.6.tar.gz (58 kB)\n",
      "\u001b[K     |████████████████████████████████| 58 kB 852 kB/s eta 0:00:011\n",
      "\u001b[?25hCollecting urllib3<1.25,>=1.21.1\n",
      "  Downloading urllib3-1.24.3-py2.py3-none-any.whl (118 kB)\n",
      "\u001b[K     |████████████████████████████████| 118 kB 2.6 MB/s eta 0:00:01\n",
      "\u001b[?25hRequirement already satisfied: six>=1.10 in /opt/conda/lib/python3.8/site-packages (from kaggle) (1.15.0)\n",
      "Requirement already satisfied: certifi in /opt/conda/lib/python3.8/site-packages (from kaggle) (2020.6.20)\n",
      "Requirement already satisfied: python-dateutil in /opt/conda/lib/python3.8/site-packages (from kaggle) (2.8.1)\n",
      "Requirement already satisfied: requests in /opt/conda/lib/python3.8/site-packages (from kaggle) (2.24.0)\n",
      "Requirement already satisfied: tqdm in /opt/conda/lib/python3.8/site-packages (from kaggle) (4.48.2)\n",
      "Collecting python-slugify\n",
      "  Downloading python-slugify-4.0.1.tar.gz (11 kB)\n",
      "Requirement already satisfied: chardet<4,>=3.0.2 in /opt/conda/lib/python3.8/site-packages (from requests->kaggle) (3.0.4)\n",
      "Requirement already satisfied: idna<3,>=2.5 in /opt/conda/lib/python3.8/site-packages (from requests->kaggle) (2.10)\n",
      "Collecting text-unidecode>=1.3\n",
      "  Downloading text_unidecode-1.3-py2.py3-none-any.whl (78 kB)\n",
      "\u001b[K     |████████████████████████████████| 78 kB 5.6 MB/s  eta 0:00:01\n",
      "\u001b[?25hBuilding wheels for collected packages: kaggle, python-slugify\n",
      "  Building wheel for kaggle (setup.py) ... \u001b[?25ldone\n",
      "\u001b[?25h  Created wheel for kaggle: filename=kaggle-1.5.6-py3-none-any.whl size=72859 sha256=b055bc85ec21928ff23325e336682a943ed460fe1ebed83f23a19fe38b6e876b\n",
      "  Stored in directory: /home/jovyan/.cache/pip/wheels/79/40/57/49eee0c279b56aa3e06d10708dcfb53142240861b122303f2b\n",
      "  Building wheel for python-slugify (setup.py) ... \u001b[?25ldone\n",
      "\u001b[?25h  Created wheel for python-slugify: filename=python_slugify-4.0.1-py2.py3-none-any.whl size=6769 sha256=2b6b03c79e6ebbe262e46dfd36ca8b50c698f9e178eafdfa895feb41a65d0dd9\n",
      "  Stored in directory: /home/jovyan/.cache/pip/wheels/91/4d/4f/e740a68c215791688c46c4d6251770a570e8dfea91af1acb5c\n",
      "Successfully built kaggle python-slugify\n",
      "Installing collected packages: urllib3, text-unidecode, python-slugify, kaggle\n",
      "  Attempting uninstall: urllib3\n",
      "    Found existing installation: urllib3 1.25.10\n",
      "    Uninstalling urllib3-1.25.10:\n",
      "      Successfully uninstalled urllib3-1.25.10\n",
      "Successfully installed kaggle-1.5.6 python-slugify-4.0.1 text-unidecode-1.3 urllib3-1.24.3\n"
     ]
    }
   ],
   "source": [
    "!pip install kaggle "
   ]
  },
  {
   "cell_type": "markdown",
   "metadata": {},
   "source": [
    "### Store your kaggle key after issuing it on your kaggle profile page."
   ]
  },
  {
   "cell_type": "code",
   "execution_count": 13,
   "metadata": {},
   "outputs": [
    {
     "name": "stdout",
     "output_type": "stream",
     "text": [
      "Warning: Your Kaggle API key is readable by other users on this system! To fix this, you can run 'chmod 600 /home/jovyan/.kaggle/kaggle.json'\n",
      "usage: kaggle [-h] [-v] {competitions,c,datasets,d,kernels,k,config} ...\n",
      "kaggle: error: the following arguments are required: command\n"
     ]
    }
   ],
   "source": [
    "!kaggle"
   ]
  },
  {
   "cell_type": "markdown",
   "metadata": {},
   "source": [
    "### To get data, at first, you have to verify yourself and agree the terms on the competition site. Otherwise, 403 - Forbidden"
   ]
  },
  {
   "cell_type": "code",
   "execution_count": 16,
   "metadata": {},
   "outputs": [
    {
     "name": "stdout",
     "output_type": "stream",
     "text": [
      "403 - Forbidden\r\n"
     ]
    }
   ],
   "source": [
    "!kaggle competitions download -c lyft-motion-prediction-autonomous-vehicles"
   ]
  },
  {
   "cell_type": "code",
   "execution_count": 18,
   "metadata": {},
   "outputs": [
    {
     "data": {
      "text/plain": [
       "256"
      ]
     },
     "execution_count": 18,
     "metadata": {},
     "output_type": "execute_result"
    }
   ],
   "source": [
    "## this script transports l5kit and dependencies\n",
    "import os\n",
    "os.system('pip uninstall typing -y')\n",
    "os.system('pip install --ignore-installed --target=/kaggle/working l5kit')"
   ]
  },
  {
   "cell_type": "code",
   "execution_count": 19,
   "metadata": {},
   "outputs": [
    {
     "name": "stdout",
     "output_type": "stream",
     "text": [
      "Collecting plotly==3.8.1\n",
      "  Downloading plotly-3.8.1-py2.py3-none-any.whl (41.2 MB)\n",
      "\u001b[K     |████████████████████████████████| 41.2 MB 47 kB/s  eta 0:00:011               | 12.4 MB 44.9 MB/s eta 0:00:01     |██████████████▋                 | 18.8 MB 44.9 MB/s eta 0:00:01     |████████████████████████▍       | 31.4 MB 5.7 MB/s eta 0:00:02\n",
      "\u001b[?25hRequirement already satisfied: six in /opt/conda/lib/python3.8/site-packages (from plotly==3.8.1) (1.15.0)\n",
      "Requirement already satisfied: nbformat>=4.2 in /opt/conda/lib/python3.8/site-packages (from plotly==3.8.1) (5.0.7)\n",
      "Requirement already satisfied: pytz in /opt/conda/lib/python3.8/site-packages (from plotly==3.8.1) (2020.1)\n",
      "Requirement already satisfied: requests in /opt/conda/lib/python3.8/site-packages (from plotly==3.8.1) (2.24.0)\n",
      "Requirement already satisfied: decorator>=4.0.6 in /opt/conda/lib/python3.8/site-packages (from plotly==3.8.1) (4.4.2)\n",
      "Collecting retrying>=1.3.3\n",
      "  Downloading retrying-1.3.3.tar.gz (10 kB)\n",
      "Requirement already satisfied: jsonschema!=2.5.0,>=2.4 in /opt/conda/lib/python3.8/site-packages (from nbformat>=4.2->plotly==3.8.1) (3.2.0)\n",
      "Requirement already satisfied: ipython-genutils in /opt/conda/lib/python3.8/site-packages (from nbformat>=4.2->plotly==3.8.1) (0.2.0)\n",
      "Requirement already satisfied: traitlets>=4.1 in /opt/conda/lib/python3.8/site-packages (from nbformat>=4.2->plotly==3.8.1) (4.3.3)\n",
      "Requirement already satisfied: jupyter-core in /opt/conda/lib/python3.8/site-packages (from nbformat>=4.2->plotly==3.8.1) (4.6.3)\n",
      "Requirement already satisfied: chardet<4,>=3.0.2 in /opt/conda/lib/python3.8/site-packages (from requests->plotly==3.8.1) (3.0.4)\n",
      "Requirement already satisfied: idna<3,>=2.5 in /opt/conda/lib/python3.8/site-packages (from requests->plotly==3.8.1) (2.10)\n",
      "Requirement already satisfied: certifi>=2017.4.17 in /opt/conda/lib/python3.8/site-packages (from requests->plotly==3.8.1) (2020.6.20)\n",
      "Requirement already satisfied: urllib3!=1.25.0,!=1.25.1,<1.26,>=1.21.1 in /opt/conda/lib/python3.8/site-packages (from requests->plotly==3.8.1) (1.24.3)\n",
      "Requirement already satisfied: pyrsistent>=0.14.0 in /opt/conda/lib/python3.8/site-packages (from jsonschema!=2.5.0,>=2.4->nbformat>=4.2->plotly==3.8.1) (0.16.0)\n",
      "Requirement already satisfied: setuptools in /opt/conda/lib/python3.8/site-packages (from jsonschema!=2.5.0,>=2.4->nbformat>=4.2->plotly==3.8.1) (49.6.0.post20200814)\n",
      "Requirement already satisfied: attrs>=17.4.0 in /opt/conda/lib/python3.8/site-packages (from jsonschema!=2.5.0,>=2.4->nbformat>=4.2->plotly==3.8.1) (20.1.0)\n",
      "Building wheels for collected packages: retrying\n",
      "  Building wheel for retrying (setup.py) ... \u001b[?25ldone\n",
      "\u001b[?25h  Created wheel for retrying: filename=retrying-1.3.3-py3-none-any.whl size=11429 sha256=3936e63804eb850a2aace9f8e96f0863cc9fa44a8cb501f1bbc498cb0785f0a7\n",
      "  Stored in directory: /home/jovyan/.cache/pip/wheels/c4/a7/48/0a434133f6d56e878ca511c0e6c38326907c0792f67b476e56\n",
      "Successfully built retrying\n",
      "Installing collected packages: retrying, plotly\n",
      "Successfully installed plotly-3.8.1 retrying-1.3.3\n",
      "Note: you may need to restart the kernel to use updated packages.\n"
     ]
    }
   ],
   "source": [
    "pip install plotly==3.8.1"
   ]
  },
  {
   "cell_type": "code",
   "execution_count": 23,
   "metadata": {
    "scrolled": true
   },
   "outputs": [
    {
     "name": "stdout",
     "output_type": "stream",
     "text": [
      "Collecting plotly\n",
      "  Downloading plotly-4.9.0-py2.py3-none-any.whl (12.9 MB)\n",
      "\u001b[K     |████████████████████████████████| 12.9 MB 136 kB/s eta 0:00:01MB 1.0 MB/s eta 0:00:11ta 0:00:01\n",
      "\u001b[?25hRequirement already satisfied, skipping upgrade: six in /opt/conda/lib/python3.8/site-packages (from plotly) (1.15.0)\n",
      "Requirement already satisfied, skipping upgrade: retrying>=1.3.3 in /opt/conda/lib/python3.8/site-packages (from plotly) (1.3.3)\n",
      "Installing collected packages: plotly\n",
      "  Attempting uninstall: plotly\n",
      "    Found existing installation: plotly 3.8.1\n",
      "    Uninstalling plotly-3.8.1:\n",
      "      Successfully uninstalled plotly-3.8.1\n",
      "Successfully installed plotly-4.9.0\n"
     ]
    }
   ],
   "source": [
    "!pip install plotly --upgrade"
   ]
  },
  {
   "cell_type": "code",
   "execution_count": 24,
   "metadata": {},
   "outputs": [
    {
     "name": "stdout",
     "output_type": "stream",
     "text": [
      "Collecting plotly==3.8.1\n",
      "  Using cached plotly-3.8.1-py2.py3-none-any.whl (41.2 MB)\n",
      "Collecting nbformat>=4.2\n",
      "  Using cached nbformat-5.0.7-py3-none-any.whl (170 kB)\n",
      "Collecting decorator>=4.0.6\n",
      "  Using cached decorator-4.4.2-py2.py3-none-any.whl (9.2 kB)\n",
      "Collecting requests\n",
      "  Downloading requests-2.24.0-py2.py3-none-any.whl (61 kB)\n",
      "\u001b[K     |████████████████████████████████| 61 kB 392 kB/s eta 0:00:011\n",
      "\u001b[?25hProcessing ./.cache/pip/wheels/c4/a7/48/0a434133f6d56e878ca511c0e6c38326907c0792f67b476e56/retrying-1.3.3-py3-none-any.whl\n",
      "Collecting six\n",
      "  Using cached six-1.15.0-py2.py3-none-any.whl (10 kB)\n",
      "Collecting pytz\n",
      "  Downloading pytz-2020.1-py2.py3-none-any.whl (510 kB)\n",
      "\u001b[K     |████████████████████████████████| 510 kB 2.6 MB/s eta 0:00:01\n",
      "\u001b[?25hCollecting jsonschema!=2.5.0,>=2.4\n",
      "  Using cached jsonschema-3.2.0-py2.py3-none-any.whl (56 kB)\n",
      "Collecting jupyter-core\n",
      "  Using cached jupyter_core-4.6.3-py2.py3-none-any.whl (83 kB)\n",
      "Collecting ipython-genutils\n",
      "  Using cached ipython_genutils-0.2.0-py2.py3-none-any.whl (26 kB)\n",
      "Collecting traitlets>=4.1\n",
      "  Using cached traitlets-5.0.0-py3-none-any.whl (97 kB)\n",
      "Collecting urllib3!=1.25.0,!=1.25.1,<1.26,>=1.21.1\n",
      "  Downloading urllib3-1.25.10-py2.py3-none-any.whl (127 kB)\n",
      "\u001b[K     |████████████████████████████████| 127 kB 8.1 MB/s eta 0:00:01\n",
      "\u001b[?25hCollecting certifi>=2017.4.17\n",
      "  Using cached certifi-2020.6.20-py2.py3-none-any.whl (156 kB)\n",
      "Collecting chardet<4,>=3.0.2\n",
      "  Downloading chardet-3.0.4-py2.py3-none-any.whl (133 kB)\n",
      "\u001b[K     |████████████████████████████████| 133 kB 7.6 MB/s eta 0:00:01\n",
      "\u001b[?25hCollecting idna<3,>=2.5\n",
      "  Downloading idna-2.10-py2.py3-none-any.whl (58 kB)\n",
      "\u001b[K     |████████████████████████████████| 58 kB 5.3 MB/s eta 0:00:011\n",
      "\u001b[?25hCollecting setuptools\n",
      "  Using cached setuptools-50.0.0-py3-none-any.whl (783 kB)\n",
      "Collecting attrs>=17.4.0\n",
      "  Using cached attrs-20.1.0-py2.py3-none-any.whl (49 kB)\n",
      "Processing ./.cache/pip/wheels/17/be/0f/727fb20889ada6aaaaba861f5f0eb21663533915429ad43f28/pyrsistent-0.16.0-cp38-cp38-linux_x86_64.whl\n",
      "Installing collected packages: setuptools, six, attrs, pyrsistent, jsonschema, ipython-genutils, traitlets, jupyter-core, nbformat, decorator, urllib3, certifi, chardet, idna, requests, retrying, pytz, plotly\n",
      "  Attempting uninstall: setuptools\n",
      "    Found existing installation: setuptools 49.6.0.post20200814\n",
      "    Uninstalling setuptools-49.6.0.post20200814:\n",
      "      Successfully uninstalled setuptools-49.6.0.post20200814\n",
      "  Attempting uninstall: six\n",
      "    Found existing installation: six 1.15.0\n",
      "    Uninstalling six-1.15.0:\n",
      "      Successfully uninstalled six-1.15.0\n",
      "  Attempting uninstall: attrs\n",
      "    Found existing installation: attrs 20.1.0\n",
      "    Uninstalling attrs-20.1.0:\n",
      "      Successfully uninstalled attrs-20.1.0\n",
      "  Attempting uninstall: pyrsistent\n",
      "    Found existing installation: pyrsistent 0.16.0\n",
      "    Uninstalling pyrsistent-0.16.0:\n",
      "      Successfully uninstalled pyrsistent-0.16.0\n",
      "  Attempting uninstall: jsonschema\n",
      "    Found existing installation: jsonschema 3.2.0\n",
      "    Uninstalling jsonschema-3.2.0:\n",
      "      Successfully uninstalled jsonschema-3.2.0\n",
      "  Attempting uninstall: ipython-genutils\n",
      "    Found existing installation: ipython-genutils 0.2.0\n",
      "    Uninstalling ipython-genutils-0.2.0:\n",
      "      Successfully uninstalled ipython-genutils-0.2.0\n",
      "  Attempting uninstall: traitlets\n",
      "    Found existing installation: traitlets 4.3.3\n",
      "    Uninstalling traitlets-4.3.3:\n",
      "      Successfully uninstalled traitlets-4.3.3\n",
      "  Attempting uninstall: jupyter-core\n",
      "    Found existing installation: jupyter-core 4.6.3\n",
      "    Uninstalling jupyter-core-4.6.3:\n",
      "      Successfully uninstalled jupyter-core-4.6.3\n",
      "  Attempting uninstall: nbformat\n",
      "    Found existing installation: nbformat 5.0.7\n",
      "    Uninstalling nbformat-5.0.7:\n",
      "      Successfully uninstalled nbformat-5.0.7\n",
      "  Attempting uninstall: decorator\n",
      "    Found existing installation: decorator 4.4.2\n",
      "    Uninstalling decorator-4.4.2:\n",
      "      Successfully uninstalled decorator-4.4.2\n",
      "  Attempting uninstall: urllib3\n",
      "    Found existing installation: urllib3 1.24.3\n",
      "    Uninstalling urllib3-1.24.3:\n",
      "      Successfully uninstalled urllib3-1.24.3\n",
      "  Attempting uninstall: certifi\n",
      "    Found existing installation: certifi 2020.6.20\n",
      "    Uninstalling certifi-2020.6.20:\n",
      "      Successfully uninstalled certifi-2020.6.20\n",
      "  Attempting uninstall: chardet\n",
      "    Found existing installation: chardet 3.0.4\n",
      "    Uninstalling chardet-3.0.4:\n",
      "      Successfully uninstalled chardet-3.0.4\n",
      "  Attempting uninstall: idna\n",
      "    Found existing installation: idna 2.10\n",
      "    Uninstalling idna-2.10:\n",
      "      Successfully uninstalled idna-2.10\n",
      "  Attempting uninstall: requests\n",
      "    Found existing installation: requests 2.24.0\n",
      "    Uninstalling requests-2.24.0:\n",
      "      Successfully uninstalled requests-2.24.0\n",
      "  Attempting uninstall: retrying\n",
      "    Found existing installation: retrying 1.3.3\n",
      "    Uninstalling retrying-1.3.3:\n",
      "      Successfully uninstalled retrying-1.3.3\n",
      "  Attempting uninstall: pytz\n",
      "    Found existing installation: pytz 2020.1\n",
      "    Uninstalling pytz-2020.1:\n",
      "      Successfully uninstalled pytz-2020.1\n",
      "  Attempting uninstall: plotly\n",
      "    Found existing installation: plotly 4.9.0\n",
      "    Uninstalling plotly-4.9.0:\n",
      "      Successfully uninstalled plotly-4.9.0\n",
      "\u001b[31mERROR: After October 2020 you may experience errors when installing or updating packages. This is because pip will change the way that it resolves dependency conflicts.\n",
      "\n",
      "We recommend you use --use-feature=2020-resolver to test your packages with the new resolver before it becomes the default.\n",
      "\n",
      "rpy2 3.1.0 requires pytest, which is not installed.\n",
      "kaggle 1.5.6 requires urllib3<1.25,>=1.21.1, but you'll have urllib3 1.25.10 which is incompatible.\u001b[0m\n",
      "Successfully installed attrs-20.1.0 certifi-2020.6.20 chardet-3.0.4 decorator-4.4.2 idna-2.10 ipython-genutils-0.2.0 jsonschema-3.2.0 jupyter-core-4.6.3 nbformat-5.0.7 plotly-3.8.1 pyrsistent-0.16.0 pytz-2020.1 requests-2.24.0 retrying-1.3.3 setuptools-50.0.0 six-1.15.0 traitlets-5.0.0 urllib3-1.25.10\n"
     ]
    }
   ],
   "source": [
    "!pip install --upgrade --force-reinstall  plotly==3.8.1"
   ]
  },
  {
   "cell_type": "code",
   "execution_count": 26,
   "metadata": {},
   "outputs": [
    {
     "name": "stdout",
     "output_type": "stream",
     "text": [
      "Requirement already satisfied: plotly==3.8.1 in /opt/conda/lib/python3.8/site-packages (3.8.1)\n",
      "Requirement already satisfied: decorator>=4.0.6 in /opt/conda/lib/python3.8/site-packages (from plotly==3.8.1) (4.4.2)\n",
      "Requirement already satisfied: requests in /opt/conda/lib/python3.8/site-packages (from plotly==3.8.1) (2.24.0)\n",
      "Requirement already satisfied: retrying>=1.3.3 in /opt/conda/lib/python3.8/site-packages (from plotly==3.8.1) (1.3.3)\n",
      "Requirement already satisfied: nbformat>=4.2 in /opt/conda/lib/python3.8/site-packages (from plotly==3.8.1) (5.0.7)\n",
      "Requirement already satisfied: pytz in /opt/conda/lib/python3.8/site-packages (from plotly==3.8.1) (2020.1)\n",
      "Requirement already satisfied: six in /opt/conda/lib/python3.8/site-packages (from plotly==3.8.1) (1.15.0)\n",
      "Requirement already satisfied: urllib3!=1.25.0,!=1.25.1,<1.26,>=1.21.1 in /opt/conda/lib/python3.8/site-packages (from requests->plotly==3.8.1) (1.25.10)\n",
      "Requirement already satisfied: certifi>=2017.4.17 in /opt/conda/lib/python3.8/site-packages (from requests->plotly==3.8.1) (2020.6.20)\n",
      "Requirement already satisfied: idna<3,>=2.5 in /opt/conda/lib/python3.8/site-packages (from requests->plotly==3.8.1) (2.10)\n",
      "Requirement already satisfied: chardet<4,>=3.0.2 in /opt/conda/lib/python3.8/site-packages (from requests->plotly==3.8.1) (3.0.4)\n",
      "Requirement already satisfied: jsonschema!=2.5.0,>=2.4 in /opt/conda/lib/python3.8/site-packages (from nbformat>=4.2->plotly==3.8.1) (3.2.0)\n",
      "Requirement already satisfied: traitlets>=4.1 in /opt/conda/lib/python3.8/site-packages (from nbformat>=4.2->plotly==3.8.1) (5.0.0)\n",
      "Requirement already satisfied: jupyter-core in /opt/conda/lib/python3.8/site-packages (from nbformat>=4.2->plotly==3.8.1) (4.6.3)\n",
      "Requirement already satisfied: ipython-genutils in /opt/conda/lib/python3.8/site-packages (from nbformat>=4.2->plotly==3.8.1) (0.2.0)\n",
      "Requirement already satisfied: setuptools in /opt/conda/lib/python3.8/site-packages (from jsonschema!=2.5.0,>=2.4->nbformat>=4.2->plotly==3.8.1) (50.0.0)\n",
      "Requirement already satisfied: pyrsistent>=0.14.0 in /opt/conda/lib/python3.8/site-packages (from jsonschema!=2.5.0,>=2.4->nbformat>=4.2->plotly==3.8.1) (0.16.0)\n",
      "Requirement already satisfied: attrs>=17.4.0 in /opt/conda/lib/python3.8/site-packages (from jsonschema!=2.5.0,>=2.4->nbformat>=4.2->plotly==3.8.1) (20.1.0)\n"
     ]
    }
   ],
   "source": [
    "!pip install plotly==3.8.1 "
   ]
  },
  {
   "cell_type": "code",
   "execution_count": null,
   "metadata": {},
   "outputs": [],
   "source": [
    "!pip install plotly\n",
    "!pip install plotly_express\n"
   ]
  },
  {
   "cell_type": "code",
   "execution_count": 29,
   "metadata": {},
   "outputs": [
    {
     "name": "stdout",
     "output_type": "stream",
     "text": [
      "Collecting lightgbm\n",
      "  Downloading lightgbm-3.0.0-py2.py3-none-manylinux1_x86_64.whl (1.7 MB)\n",
      "\u001b[K     |████████████████████████████████| 1.7 MB 945 kB/s eta 0:00:01B 945 kB/s eta 0:00:01\n",
      "\u001b[?25hRequirement already satisfied: scikit-learn!=0.22.0 in /opt/conda/lib/python3.8/site-packages (from lightgbm) (0.23.2)\n",
      "Requirement already satisfied: scipy in /opt/conda/lib/python3.8/site-packages (from lightgbm) (1.5.2)\n",
      "Requirement already satisfied: numpy in /opt/conda/lib/python3.8/site-packages (from lightgbm) (1.19.1)\n",
      "Requirement already satisfied: threadpoolctl>=2.0.0 in /opt/conda/lib/python3.8/site-packages (from scikit-learn!=0.22.0->lightgbm) (2.1.0)\n",
      "Requirement already satisfied: joblib>=0.11 in /opt/conda/lib/python3.8/site-packages (from scikit-learn!=0.22.0->lightgbm) (0.16.0)\n",
      "Installing collected packages: lightgbm\n",
      "Successfully installed lightgbm-3.0.0\n"
     ]
    }
   ],
   "source": [
    "!pip install lightgbm"
   ]
  },
  {
   "cell_type": "code",
   "execution_count": 30,
   "metadata": {},
   "outputs": [
    {
     "name": "stdout",
     "output_type": "stream",
     "text": [
      "Collecting xgboost\n",
      "  Downloading xgboost-1.2.0-py3-none-manylinux2010_x86_64.whl (148.9 MB)\n",
      "\u001b[K     |████████████████████████████████| 148.9 MB 27 kB/s  eta 0:00:01   |▉                               | 3.7 MB 1.1 MB/s eta 0:02:13     |██▌                             | 11.6 MB 14.5 MB/s eta 0:00:10     |██████▏                         | 28.9 MB 5.6 MB/s eta 0:00:22��████████▍                   | 57.8 MB 10.9 MB/s eta 0:00:09          | 68.9 MB 5.8 MB/s eta 0:00:14��███████▊              | 82.5 MB 73.7 MB/s eta 0:00:01[K     |██████████████████▌             | 85.9 MB 73.7 MB/s eta 0:00:01     |██████████████████▋             | 86.6 MB 73.7 MB/s eta 0:00:01███████████████▎          | 99.1 MB 4.7 MB/s eta 0:00:11███████████▋          | 100.4 MB 4.7 MB/s eta 0:00:11█▍         | 104.3 MB 4.7 MB/s eta 0:00:10     |███████████████████████████     | 125.8 MB 4.8 MB/s eta 0:00:05\n",
      "\u001b[?25hRequirement already satisfied: scipy in /opt/conda/lib/python3.8/site-packages (from xgboost) (1.5.2)\n",
      "Requirement already satisfied: numpy in /opt/conda/lib/python3.8/site-packages (from xgboost) (1.19.1)\n",
      "Installing collected packages: xgboost\n",
      "Successfully installed xgboost-1.2.0\n"
     ]
    }
   ],
   "source": [
    "!pip install xgboost"
   ]
  },
  {
   "cell_type": "code",
   "execution_count": 31,
   "metadata": {},
   "outputs": [
    {
     "name": "stdout",
     "output_type": "stream",
     "text": [
      "Collecting catboost\n",
      "  Downloading catboost-0.24.1-cp38-none-manylinux1_x86_64.whl (66.0 MB)\n",
      "\u001b[K     |████████████████████████████████| 66.0 MB 89 kB/s  eta 0:00:01    |████                            | 8.1 MB 1.1 MB/s eta 0:00:552 MB 1.1 MB/s eta 0:00:54██▋                         | 13.6 MB 1.1 MB/s eta 0:00:50     |███████                         | 14.3 MB 1.1 MB/s eta 0:00:49 eta 0:00:41     |███████████████████████▋        | 48.8 MB 451 kB/s eta 0:00:39ta 0:00:01\n",
      "\u001b[?25hRequirement already satisfied: pandas>=0.24.0 in /opt/conda/lib/python3.8/site-packages (from catboost) (1.1.1)\n",
      "Collecting graphviz\n",
      "  Downloading graphviz-0.14.1-py2.py3-none-any.whl (18 kB)\n",
      "Requirement already satisfied: scipy in /opt/conda/lib/python3.8/site-packages (from catboost) (1.5.2)\n",
      "Requirement already satisfied: matplotlib in /opt/conda/lib/python3.8/site-packages (from catboost) (3.2.2)\n",
      "Requirement already satisfied: six in /opt/conda/lib/python3.8/site-packages (from catboost) (1.15.0)\n",
      "Requirement already satisfied: plotly in /opt/conda/lib/python3.8/site-packages (from catboost) (4.9.0)\n",
      "Requirement already satisfied: numpy>=1.16.0 in /opt/conda/lib/python3.8/site-packages (from catboost) (1.19.1)\n",
      "Requirement already satisfied: pytz>=2017.2 in /opt/conda/lib/python3.8/site-packages (from pandas>=0.24.0->catboost) (2020.1)\n",
      "Requirement already satisfied: python-dateutil>=2.7.3 in /opt/conda/lib/python3.8/site-packages (from pandas>=0.24.0->catboost) (2.8.1)\n",
      "Requirement already satisfied: cycler>=0.10 in /opt/conda/lib/python3.8/site-packages (from matplotlib->catboost) (0.10.0)\n",
      "Requirement already satisfied: kiwisolver>=1.0.1 in /opt/conda/lib/python3.8/site-packages (from matplotlib->catboost) (1.2.0)\n",
      "Requirement already satisfied: pyparsing!=2.0.4,!=2.1.2,!=2.1.6,>=2.0.1 in /opt/conda/lib/python3.8/site-packages (from matplotlib->catboost) (2.4.7)\n",
      "Requirement already satisfied: retrying>=1.3.3 in /opt/conda/lib/python3.8/site-packages (from plotly->catboost) (1.3.3)\n",
      "Installing collected packages: graphviz, catboost\n",
      "Successfully installed catboost-0.24.1 graphviz-0.14.1\n"
     ]
    }
   ],
   "source": [
    "!pip install catboost"
   ]
  },
  {
   "cell_type": "code",
   "execution_count": null,
   "metadata": {},
   "outputs": [],
   "source": []
  }
 ],
 "metadata": {
  "kernelspec": {
   "display_name": "Python 3",
   "language": "python",
   "name": "python3"
  },
  "language_info": {
   "codemirror_mode": {
    "name": "ipython",
    "version": 3
   },
   "file_extension": ".py",
   "mimetype": "text/x-python",
   "name": "python",
   "nbconvert_exporter": "python",
   "pygments_lexer": "ipython3",
   "version": "3.8.5"
  }
 },
 "nbformat": 4,
 "nbformat_minor": 4
}
